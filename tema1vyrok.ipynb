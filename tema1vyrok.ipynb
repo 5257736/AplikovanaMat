{
 "cells": [
  {
   "cell_type": "markdown",
   "metadata": {},
   "source": [
    "**Autor:** Dagmara Lopatková  <br> \n",
    "email: [lopatkova@spseke.sk](mailto:lopatkova@spseke.sk)\n",
    "*** \n",
    "\n",
    "**<font size=6 color=green> APM: Téma 1 - Výroková logika </font>**  "
   ]
  },
  {
   "cell_type": "markdown",
   "metadata": {},
   "source": [
    "**Výrok** je oznamovacia veta (tvrdenie), o ktorej má zmysel uvažovať, či je pravdivá **(1)** alebo nepravidá **(0)**. Označuje na veľkými tlačenými písmenami. (Napr. A: Dnes prší.)\n",
    "\n",
    "Výrokom nie je otázka, rozkazovacia veta, nápis, názov, ...   \n",
    "\n",
    "Výrok, o ktorom nevieme, či je pravdivý alebo nepravdivý, nazývame **hypotéza**. (Napr. Sme jediná civilizácia vo vesmíre.)  \n",
    "\n",
    "**Negácia výroku** - výrok $A'$, ktorý popiera pravdivosť tvrdenia vo výroku $A$. Výrok s opačnou pravdivostnou hodnotou akú má pôvodný výrok. To znamená, ak pravdivostná hodnota výroku $A$ je **1**, tak pravdivostná hodnota jeho negácie je $A'$ je **0** a naopak.\n"
   ]
  },
  {
   "cell_type": "markdown",
   "metadata": {},
   "source": [
    "### <font color=green> Výroková forma    </font>\n",
    "\n",
    "**Výroková forma $V(x)$ s premennou $x$** - je oznamovacia veta obsahujúca premennú $x$, sama **nie je výrokom**, výrokom sa stáva, ak za premennú $x$ **dosadíme konkrétny objekt z vopred danej množiny** (obor pravdivosti).\n"
   ]
  },
  {
   "cell_type": "markdown",
   "metadata": {},
   "source": [
    "### <font color=green> Výrok s udaním počtu prvkov a jeho negácia    </font>\n",
    "$V_1$: Množina má aspoň $k$ prvkov...    \n",
    "$V_1'$: Množina má najviac $k-1$ prvkov...    \n",
    "\n",
    "$V_2$: Množina má najviac $k$ prvkov...    \n",
    "$V_2'$: Množina má aspoň $k+1$ prvkov...    "
   ]
  },
  {
   "cell_type": "markdown",
   "metadata": {},
   "source": [
    "### <font color=green> Kvantifikovaný výrok - výrok, ktorý obsahuje kvantifikátor    </font>  \n",
    "\n",
    "Kvantifikátory, sú slová vyjadrujúce množstvo, ako **každý, niektorý, žiadny, aspoň tri, najviac štyri, práve jeden,...**  \n",
    "\n",
    "Poznáme dva druhy kvantifikátorov: \n",
    "1. **Všeobecný kvantifikátor (veľký) $\\forall$**    \n",
    "    \"pre všetky prvky\"   \n",
    "    \"pre každý prvok\"    \n",
    "    \"pre ľubovoľný prvok\"   \n",
    "    \n",
    "\n",
    "2. **Existenčný kvantifikátor (malý) $\\exists$**   \n",
    "    \"pre aspoň jeden prvok\"    \n",
    "    \"eistuje aspoň jeden prvok\"    \n",
    "    \"pre niektorý prvok\"   \n",
    "    \n",
    "    \n",
    "Negácia **všeobecného výroku $\\forall x:V(X)$** a **existenčného výroku $\\exists x:V(X)$**   \n",
    "\n",
    "$$(\\forall x:V(X))'\\equiv \\exists x:V'(X)$$   \n",
    "\n",
    "$$(\\exists x:V(X))'\\equiv \\forall x:V'(X)$$"
   ]
  },
  {
   "cell_type": "code",
   "execution_count": null,
   "metadata": {},
   "outputs": [],
   "source": []
  }
 ],
 "metadata": {
  "kernelspec": {
   "display_name": "SageMath 9.3",
   "language": "sage",
   "name": "sagemath"
  },
  "language_info": {
   "codemirror_mode": {
    "name": "ipython",
    "version": 3
   },
   "file_extension": ".py",
   "mimetype": "text/x-python",
   "name": "python",
   "nbconvert_exporter": "python",
   "pygments_lexer": "ipython3",
   "version": "3.7.10"
  }
 },
 "nbformat": 4,
 "nbformat_minor": 4
}
